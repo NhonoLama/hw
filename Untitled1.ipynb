{
  "nbformat": 4,
  "nbformat_minor": 0,
  "metadata": {
    "colab": {
      "name": "Untitled1.ipynb",
      "provenance": [],
      "authorship_tag": "ABX9TyNVZhZMKDIZmQoupvGB9X0M",
      "include_colab_link": true
    },
    "kernelspec": {
      "name": "python3",
      "display_name": "Python 3"
    },
    "language_info": {
      "name": "python"
    }
  },
  "cells": [
    {
      "cell_type": "markdown",
      "metadata": {
        "id": "view-in-github",
        "colab_type": "text"
      },
      "source": [
        "<a href=\"https://colab.research.google.com/github/NhonoLama/hw/blob/main/Untitled1.ipynb\" target=\"_parent\"><img src=\"https://colab.research.google.com/assets/colab-badge.svg\" alt=\"Open In Colab\"/></a>"
      ]
    },
    {
      "cell_type": "code",
      "metadata": {
        "id": "wlkhBsd2Q3nH"
      },
      "source": [
        ""
      ],
      "execution_count": null,
      "outputs": []
    },
    {
      "cell_type": "markdown",
      "metadata": {
        "id": "06_HLEtSReuT"
      },
      "source": [
        "Write a program code to calculate permutations (5,3).\n",
        "\n"
      ]
    },
    {
      "cell_type": "code",
      "metadata": {
        "colab": {
          "base_uri": "https://localhost:8080/"
        },
        "id": "armTIbrwRwTp",
        "outputId": "1f717860-ae4d-43b2-f495-48be39827e45"
      },
      "source": [
        "from itertools import permutations\n",
        "\n",
        "perm = permutations([5,3])\n",
        "for i in perm :\n",
        "  print(i)"
      ],
      "execution_count": 2,
      "outputs": [
        {
          "output_type": "stream",
          "text": [
            "(5, 3)\n",
            "(3, 5)\n"
          ],
          "name": "stdout"
        }
      ]
    },
    {
      "cell_type": "markdown",
      "metadata": {
        "id": "S7KffkK9TBUr"
      },
      "source": [
        "write a program code to calculate combinations(15,3)."
      ]
    },
    {
      "cell_type": "code",
      "metadata": {
        "colab": {
          "base_uri": "https://localhost:8080/"
        },
        "id": "lMWyRI2-TKGL",
        "outputId": "dfc0c48e-faaa-452d-84a3-a8e42aefb06a"
      },
      "source": [
        "from itertools import combinations\n",
        "\n",
        "perm = combinations([5,3],1)\n",
        "for i in perm :\n",
        "  print(i)"
      ],
      "execution_count": 6,
      "outputs": [
        {
          "output_type": "stream",
          "text": [
            "(5,)\n",
            "(3,)\n"
          ],
          "name": "stdout"
        }
      ]
    },
    {
      "cell_type": "markdown",
      "metadata": {
        "id": "UK5lbJ3ycypV"
      },
      "source": [
        "Write a Python code that takes the degree as input from the user and convert it into radian."
      ]
    },
    {
      "cell_type": "code",
      "metadata": {
        "colab": {
          "base_uri": "https://localhost:8080/"
        },
        "id": "sL5AQ8afc3-n",
        "outputId": "fdb09adf-b61e-452d-da1a-96e9905604dd"
      },
      "source": [
        "import math\n",
        "number= int(input(\"enter a number in degree: \"))\n",
        "number=math.radians(number)\n",
        "print(\"its radian form is:\",number)\n",
        "\n"
      ],
      "execution_count": 15,
      "outputs": [
        {
          "output_type": "stream",
          "text": [
            "enter a number in degree: 23\n",
            "its radian form is: 0.4014257279586958\n"
          ],
          "name": "stdout"
        }
      ]
    },
    {
      "cell_type": "markdown",
      "metadata": {
        "id": "yv2KOCGOhGIt"
      },
      "source": [
        "Write a Python code that inputs input from the user and calculate its square root.\n"
      ]
    },
    {
      "cell_type": "code",
      "metadata": {
        "colab": {
          "base_uri": "https://localhost:8080/"
        },
        "id": "Q9SFYv8UhLZ5",
        "outputId": "9145de47-006b-4c29-d358-11c984a39ebf"
      },
      "source": [
        "import math\n",
        "number = int(input(\"enter a number: \"))\n",
        "number = math.sqrt(number)\n",
        "print(\"its square root is : \",number)"
      ],
      "execution_count": 17,
      "outputs": [
        {
          "output_type": "stream",
          "text": [
            "enter a number: 4\n",
            "its square root is :  2.0\n"
          ],
          "name": "stdout"
        }
      ]
    },
    {
      "cell_type": "markdown",
      "metadata": {
        "id": "xBy2oB3QiNe3"
      },
      "source": [
        "Write a Python code to calculate LCM of (25,55)."
      ]
    },
    {
      "cell_type": "code",
      "metadata": {
        "colab": {
          "base_uri": "https://localhost:8080/",
          "height": 129
        },
        "id": "XDKuE8p5iRr3",
        "outputId": "8d687e30-32e7-4640-bc56-0b0d2eb98c40"
      },
      "source": [
        "if x > y:\n",
        "       greater = x\n",
        "   else:\n",
        "       greater = y\n",
        "\n",
        "   while(True):\n",
        "       if((greater % x == 0) and (greater % y == 0)):\n",
        "           lcm = greater\n",
        "           break\n",
        "       greater += 1\n"
      ],
      "execution_count": 19,
      "outputs": [
        {
          "output_type": "error",
          "ename": "IndentationError",
          "evalue": "ignored",
          "traceback": [
            "\u001b[0;36m  File \u001b[0;32m\"<ipython-input-19-c15a80680865>\"\u001b[0;36m, line \u001b[0;32m3\u001b[0m\n\u001b[0;31m    else:\u001b[0m\n\u001b[0m         ^\u001b[0m\n\u001b[0;31mIndentationError\u001b[0m\u001b[0;31m:\u001b[0m unindent does not match any outer indentation level\n"
          ]
        }
      ]
    },
    {
      "cell_type": "markdown",
      "metadata": {
        "id": "cy6bzBvNjUlP"
      },
      "source": [
        "Ask enter to enter two numbers (say, a and b). Generate two random numbers between those two numbers and find a combination of these two newly generated random numbers. "
      ]
    },
    {
      "cell_type": "code",
      "metadata": {
        "colab": {
          "base_uri": "https://localhost:8080/"
        },
        "id": "pA8GPUYojYNY",
        "outputId": "c39077e8-d237-406f-d592-7384c10f2028"
      },
      "source": [
        "import random\n",
        "from itertools import combinations\n",
        "\n",
        "num1= int(input(\"enter a number:\"))\n",
        "num2 =int(input(\"enter another number:\"))\n",
        "ran1=random.randint(num1,num2)\n",
        "ran2=random.randint(num1,num2)\n",
        "\n",
        "com=combinations([ran1,ran2],2)\n",
        "for i in com:\n",
        "  print(i)"
      ],
      "execution_count": 21,
      "outputs": [
        {
          "output_type": "stream",
          "text": [
            "enter a number:2\n",
            "enter another number:7\n",
            "(6, 5)\n"
          ],
          "name": "stdout"
        }
      ]
    },
    {
      "cell_type": "markdown",
      "metadata": {
        "id": "hsi39S0jky_v"
      },
      "source": [
        "Divide 1000 by 3 and print the answer with only 5 numbers after decimal.\n"
      ]
    },
    {
      "cell_type": "code",
      "metadata": {
        "colab": {
          "base_uri": "https://localhost:8080/"
        },
        "id": "8yJmmOVJk2qg",
        "outputId": "beff11b8-7db0-408f-be8f-989700eb54cd"
      },
      "source": [
        "num=1000/3\n",
        "print(\"number: {number:.5f}\".format(number=num))"
      ],
      "execution_count": 33,
      "outputs": [
        {
          "output_type": "stream",
          "text": [
            "number: 333.33333\n"
          ],
          "name": "stdout"
        }
      ]
    },
    {
      "cell_type": "markdown",
      "metadata": {
        "id": "do2eQr3qmQi2"
      },
      "source": [
        "\n",
        "Write a program to convert 108 to binary.\n"
      ]
    },
    {
      "cell_type": "code",
      "metadata": {
        "colab": {
          "base_uri": "https://localhost:8080/"
        },
        "id": "iD22M3Izmahp",
        "outputId": "43134298-59b8-49e2-afa3-a9daae75a84c"
      },
      "source": [
        "print(bin(108))"
      ],
      "execution_count": 37,
      "outputs": [
        {
          "output_type": "stream",
          "text": [
            "0b1101100\n"
          ],
          "name": "stdout"
        }
      ]
    },
    {
      "cell_type": "markdown",
      "metadata": {
        "id": "dyemc7-ToFqK"
      },
      "source": [
        "Write a program to convert 1008 to hexadecimal.\n"
      ]
    },
    {
      "cell_type": "code",
      "metadata": {
        "colab": {
          "base_uri": "https://localhost:8080/"
        },
        "id": "qZy5DhOfoI5H",
        "outputId": "d9b9363b-7170-4e92-aa72-e10cb2ea5475"
      },
      "source": [
        "print(\"%x\"%(1008))"
      ],
      "execution_count": 38,
      "outputs": [
        {
          "output_type": "stream",
          "text": [
            "3f0\n"
          ],
          "name": "stdout"
        }
      ]
    },
    {
      "cell_type": "code",
      "metadata": {
        "id": "dRSm_i2YoTzU"
      },
      "source": [
        "Write a summary of everything you learnt in this class."
      ],
      "execution_count": null,
      "outputs": []
    },
    {
      "cell_type": "code",
      "metadata": {
        "id": "b3S-oMsKoaii"
      },
      "source": [
        "#print in the console.\n",
        "#legal and wrong ways to declare a variable.\n",
        "#writind single and multi line commets.\n",
        "#concatinating different values.\n",
        "#about len() ,type() and other properties.\n",
        "#about importing math and its different properties.\n"
      ],
      "execution_count": null,
      "outputs": []
    }
  ]
}