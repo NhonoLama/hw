{
  "nbformat": 4,
  "nbformat_minor": 0,
  "metadata": {
    "colab": {
      "name": "Untitled2.ipynb",
      "provenance": [],
      "collapsed_sections": [],
      "authorship_tag": "ABX9TyN7tyCzIc6TbLwTWp8HMsB/",
      "include_colab_link": true
    },
    "kernelspec": {
      "name": "python3",
      "display_name": "Python 3"
    },
    "language_info": {
      "name": "python"
    }
  },
  "cells": [
    {
      "cell_type": "markdown",
      "metadata": {
        "id": "view-in-github",
        "colab_type": "text"
      },
      "source": [
        "<a href=\"https://colab.research.google.com/github/NhonoLama/hw/blob/main/if_hw.ipynb\" target=\"_parent\"><img src=\"https://colab.research.google.com/assets/colab-badge.svg\" alt=\"Open In Colab\"/></a>"
      ]
    },
    {
      "cell_type": "code",
      "metadata": {
        "id": "vkF79lzftJQU"
      },
      "source": [
        ""
      ],
      "execution_count": null,
      "outputs": []
    },
    {
      "cell_type": "markdown",
      "metadata": {
        "id": "g4Nbyin9tT8w"
      },
      "source": [
        "Write a python program to find the largest of three numbers "
      ]
    },
    {
      "cell_type": "code",
      "metadata": {
        "colab": {
          "base_uri": "https://localhost:8080/"
        },
        "id": "GhtaUhbEtU8E",
        "outputId": "503c80de-1524-40d0-f1df-69939d740fc7"
      },
      "source": [
        "num1=int(input(\"enter first number: \"))\n",
        "num2=int(input(\"enter first number: \"))\n",
        "num3=int(input(\"enter first number: \"))\n",
        "if(num1>num2 and num1>num3): print(str(num1)+\"is the greatest.\")\n",
        "elif(num2>num3):print(\"%d is the greateset\"%num2)\n",
        "else : print(str(num3) +\"is the greatest.\")"
      ],
      "execution_count": 11,
      "outputs": [
        {
          "output_type": "stream",
          "text": [
            "enter first number: 7\n",
            "enter first number: 8\n",
            "enter first number: 5\n",
            "8 is the greateset\n"
          ],
          "name": "stdout"
        }
      ]
    },
    {
      "cell_type": "markdown",
      "metadata": {
        "id": "J8s3jAcmv-sn"
      },
      "source": [
        "Write a python program to check whether a character is uppercase or lowercase alphabet."
      ]
    },
    {
      "cell_type": "code",
      "metadata": {
        "colab": {
          "base_uri": "https://localhost:8080/"
        },
        "id": "xZmMw8ypwBRn",
        "outputId": "7160bd62-11c8-4645-891c-5830717ab496"
      },
      "source": [
        "word = input(\"enter a character:\")\n",
        "if(word.isupper()):\n",
        "  print(\"the word \"+word + \" is upper cased.\")\n",
        "else:\n",
        "  print(\"the word \",word ,\" is lower cased.\")"
      ],
      "execution_count": 14,
      "outputs": [
        {
          "output_type": "stream",
          "text": [
            "enter a character:A\n",
            "the word A is upper cased.\n"
          ],
          "name": "stdout"
        }
      ]
    },
    {
      "cell_type": "markdown",
      "metadata": {
        "id": "QouMWbzjw8fB"
      },
      "source": [
        "WAP to find whether given input is number or character"
      ]
    },
    {
      "cell_type": "code",
      "metadata": {
        "colab": {
          "base_uri": "https://localhost:8080/"
        },
        "id": "W1Oa-gcdw9Rt",
        "outputId": "629625fe-2e3c-4727-ac9e-da7fae728b3e"
      },
      "source": [
        "ch = input(\"write anything.\")\n",
        "if((ch >= 'a' and ch <= 'z') or (ch >= 'A' and ch <= 'Z')): \n",
        "    print(\"The Given Character \", ch, \"is a character\") \n",
        "elif(ch >= '0' and ch <= '9'):\n",
        "    print(\"The Given Character \", ch, \"is a number\")\n",
        "else:\n",
        "    print(\"The Given Character \", ch, \"is a Special Character\")\n"
      ],
      "execution_count": 34,
      "outputs": [
        {
          "output_type": "stream",
          "text": [
            "write anything.1\n",
            "The Given Character  1 is a number\n"
          ],
          "name": "stdout"
        }
      ]
    },
    {
      "cell_type": "markdown",
      "metadata": {
        "id": "XNUEQFUzyIAf"
      },
      "source": [
        "Write a program to check whether the input alphabet is vowel or not using if-else."
      ]
    },
    {
      "cell_type": "code",
      "metadata": {
        "colab": {
          "base_uri": "https://localhost:8080/"
        },
        "id": "DvUgu9QEyOIA",
        "outputId": "73b4d635-88f7-480b-9546-8a7d43e1a2d4"
      },
      "source": [
        "letter = input(\"enter a letter: \")\n",
        "vowel = ('a','e','i','o','u')\n",
        "if(letter in vowel): print(\"the word \",letter,\" is vowel.\")\n",
        "else:print(\"its not a vowel\")"
      ],
      "execution_count": 22,
      "outputs": [
        {
          "output_type": "stream",
          "text": [
            "enter a letter: s\n",
            "its not a vowel\n"
          ],
          "name": "stdout"
        }
      ]
    },
    {
      "cell_type": "markdown",
      "metadata": {
        "id": "CMF3Ioe_0btR"
      },
      "source": [
        "Write a program to check whether the entered year is leap year or not."
      ]
    },
    {
      "cell_type": "code",
      "metadata": {
        "colab": {
          "base_uri": "https://localhost:8080/"
        },
        "id": "36fJtUwz0fGJ",
        "outputId": "8e76f43a-ad6b-40c7-b14c-1d2c530bc5b5"
      },
      "source": [
        "year = int(input(\"Enter a year: \"))\n",
        "\n",
        "if (year % 4) == 0:\n",
        "   if (year % 100) == 0:\n",
        "       if (year % 400) == 0:\n",
        "           print(\"{0} is a leap year\".format(year))\n",
        "       else:\n",
        "           print(\"{0} is not a leap year\".format(year))\n",
        "   else:\n",
        "       print(\"{0} is a leap year\".format(year))\n",
        "else:\n",
        "   print(\"{0} is not a leap year\".format(year))\n",
        "\n",
        "   \n"
      ],
      "execution_count": 30,
      "outputs": [
        {
          "output_type": "stream",
          "text": [
            "Enter a year: 2001\n",
            "2001 is not a leap year\n"
          ],
          "name": "stdout"
        }
      ]
    },
    {
      "cell_type": "markdown",
      "metadata": {
        "id": "dDck-NF20jUU"
      },
      "source": [
        "Write a program to check if the number is Armstrong or not."
      ]
    },
    {
      "cell_type": "code",
      "metadata": {
        "colab": {
          "base_uri": "https://localhost:8080/"
        },
        "id": "tUZQ4V6a0mv3",
        "outputId": "db1b9d62-7243-4a59-a26a-7c92028dc1e9"
      },
      "source": [
        "num = int(input(\"Enter a number: \"))\n",
        "\n",
        "sum = 0\n",
        "\n",
        "temp = num\n",
        "while temp > 0:\n",
        "   digit = temp % 10\n",
        "   sum += digit ** 3\n",
        "   temp //= 10\n",
        "   \n",
        "if num == sum:\n",
        "   print(num,\"is an Armstrong number\")\n",
        "else:\n",
        "   print(num,\"is not an Armstrong number\")"
      ],
      "execution_count": 32,
      "outputs": [
        {
          "output_type": "stream",
          "text": [
            "Enter a number: 2\n",
            "2 is not an Armstrong number\n"
          ],
          "name": "stdout"
        }
      ]
    },
    {
      "cell_type": "markdown",
      "metadata": {
        "id": "W_gG9sKI0_EB"
      },
      "source": [
        "Write a program to compute the grade from marks. "
      ]
    },
    {
      "cell_type": "code",
      "metadata": {
        "colab": {
          "base_uri": "https://localhost:8080/"
        },
        "id": "539dbN4i1Mih",
        "outputId": "26072ada-a2e9-4541-da2a-1a265cf57e7b"
      },
      "source": [
        "marks=int(input(\"enter your marks:\"))\n",
        "if (marks>90):print(\"you got A\")\n",
        "elif marks>80:print(\"you got B\") \n",
        "elif marks>70:print(\"you've got C\")\n",
        "elif marks>60:print(\"you got D\")\n",
        "elif marks>50:print(\"you got E\")\n",
        "else :print(\"you failed or F\")"
      ],
      "execution_count": 29,
      "outputs": [
        {
          "output_type": "stream",
          "text": [
            "enter your marks:61\n",
            "you got D\n"
          ],
          "name": "stdout"
        }
      ]
    }
  ]
}