{
  "nbformat": 4,
  "nbformat_minor": 0,
  "metadata": {
    "colab": {
      "name": "list_hw.ipynb",
      "provenance": [],
      "collapsed_sections": [],
      "authorship_tag": "ABX9TyMwfdUdjyguBvB2MDdMERRD",
      "include_colab_link": true
    },
    "kernelspec": {
      "name": "python3",
      "display_name": "Python 3"
    },
    "language_info": {
      "name": "python"
    }
  },
  "cells": [
    {
      "cell_type": "markdown",
      "metadata": {
        "id": "view-in-github",
        "colab_type": "text"
      },
      "source": [
        "<a href=\"https://colab.research.google.com/github/NhonoLama/hw/blob/main/list_hw.ipynb\" target=\"_parent\"><img src=\"https://colab.research.google.com/assets/colab-badge.svg\" alt=\"Open In Colab\"/></a>"
      ]
    },
    {
      "cell_type": "code",
      "metadata": {
        "id": "tI1ApC4qc4z5"
      },
      "source": [
        "#Make a list of ten students in your class. Print the name of each student whose name starts with ‘B’.\n"
      ],
      "execution_count": null,
      "outputs": []
    },
    {
      "cell_type": "code",
      "metadata": {
        "colab": {
          "base_uri": "https://localhost:8080/"
        },
        "id": "6WTXjnKbdAbm",
        "outputId": "3be55f5d-557c-40bc-c3ae-d710b2a14ea5"
      },
      "source": [
        "stds= ['ram','shyam','rabin','alsiha','Bikram','yogesh','rohit','ganesh','Bhuwan',\"Bibek\"]\n",
        "for i in stds:\n",
        "   if i[0]=='B':print(i)\n",
        "if i[0] != 'B' :print('no such nam')"
      ],
      "execution_count": 2,
      "outputs": [
        {
          "output_type": "stream",
          "text": [
            "Bikram\n",
            "Bhuwan\n",
            "Bibek\n"
          ],
          "name": "stdout"
        }
      ]
    },
    {
      "cell_type": "code",
      "metadata": {
        "colab": {
          "base_uri": "https://localhost:8080/"
        },
        "id": "c3xcY0EFeUie",
        "outputId": "b2bf10e3-4132-489e-978e-477fb3eb8e91"
      },
      "source": [
        "stds[1]= \"anrida\"\n",
        "for i in stds:\n",
        "   if i[-1]=='a':print(i)\n",
        "\n",
        "\n"
      ],
      "execution_count": 8,
      "outputs": [
        {
          "output_type": "stream",
          "text": [
            "anrida\n",
            "alsiha\n",
            "no such name\n"
          ],
          "name": "stdout"
        }
      ]
    },
    {
      "cell_type": "markdown",
      "metadata": {
        "id": "7RugNctwhmiD"
      },
      "source": [
        "Print all the unique elements in the following list \n",
        "fifa = ['Italy','Argentina','Germany','Brazil','France','Brazil','Italy','Spain','Germany','France']\n"
      ]
    },
    {
      "cell_type": "code",
      "metadata": {
        "colab": {
          "base_uri": "https://localhost:8080/"
        },
        "id": "JTGO6PXijHbj",
        "outputId": "8bcd1147-7e28-44b4-ee06-55e2e0962c16"
      },
      "source": [
        "fifa = ['Italy','Argentina','Germany','Brazil','France','Brazil','Italy','Spain','Germany','France']\n",
        "fifas=[]\n",
        "for x in fifa:\n",
        "        if x not in fifas:\n",
        "          fifas.append(x)\n",
        "for x in fifas:\n",
        "  print(x)"
      ],
      "execution_count": null,
      "outputs": [
        {
          "output_type": "stream",
          "text": [
            "Italy\n",
            "Argentina\n",
            "Germany\n",
            "Brazil\n",
            "France\n",
            "Spain\n"
          ],
          "name": "stdout"
        }
      ]
    },
    {
      "cell_type": "markdown",
      "metadata": {
        "id": "CDTOXBNmluM-"
      },
      "source": [
        "Change the first alphabet of all elements of the following list to capital.\n",
        "Bob = [‘hurricane’,’tambourine’,’blowing’,’numb’]\n"
      ]
    },
    {
      "cell_type": "code",
      "metadata": {
        "colab": {
          "base_uri": "https://localhost:8080/"
        },
        "id": "-k4nzq9Mlzrw",
        "outputId": "707bf82a-cb25-4fa0-ba36-b7d3fb9c3833"
      },
      "source": [
        "Bob = ['hurricane','tambourine','blowing','numb']\n",
        "for i in Bob:\n",
        "  print(i.title())"
      ],
      "execution_count": null,
      "outputs": [
        {
          "output_type": "stream",
          "text": [
            "Hurricane\n",
            "Tambourine\n",
            "Blowing\n",
            "Numb\n"
          ],
          "name": "stdout"
        }
      ]
    },
    {
      "cell_type": "markdown",
      "metadata": {
        "id": "673Q__S5mYEC"
      },
      "source": [
        "A = [‘a’,’b’,’c’,’d’] B = [‘1’,’a’,’2’,’b’]\n",
        "Find  and AUB and AintersectonB\n"
      ]
    },
    {
      "cell_type": "code",
      "metadata": {
        "colab": {
          "base_uri": "https://localhost:8080/"
        },
        "id": "KqxOxa4DmrMD",
        "outputId": "08c258e4-eda5-4e50-eb42-1eee61d81e21"
      },
      "source": [
        "A=['a','b','c','d']\n",
        "B=['1','a','2','b']\n",
        "\n",
        "for i in A:\n",
        "  print(i)\n",
        "for i in B:\n",
        "  if i not in A:\n",
        "    print(i)\n"
      ],
      "execution_count": null,
      "outputs": [
        {
          "output_type": "stream",
          "text": [
            "a\n",
            "b\n",
            "c\n",
            "d\n",
            "1\n",
            "2\n"
          ],
          "name": "stdout"
        }
      ]
    },
    {
      "cell_type": "code",
      "metadata": {
        "colab": {
          "base_uri": "https://localhost:8080/"
        },
        "id": "Wi43e3J3o8H2",
        "outputId": "b13d8512-b1c4-4ebb-fccd-676dd04460a4"
      },
      "source": [
        "for i in B:\n",
        "    if i in A:\n",
        "      print(i)"
      ],
      "execution_count": null,
      "outputs": [
        {
          "output_type": "stream",
          "text": [
            "a\n",
            "b\n"
          ],
          "name": "stdout"
        }
      ]
    },
    {
      "cell_type": "markdown",
      "metadata": {
        "id": "FgdYRrWEpHKj"
      },
      "source": [
        "Calculate the mean and standard deviation of the following list:\n",
        "Numbers = [1,2,3,5,88,99,55,33,41,52]\n"
      ]
    },
    {
      "cell_type": "code",
      "metadata": {
        "colab": {
          "base_uri": "https://localhost:8080/"
        },
        "id": "bIF9YxZIAqw1",
        "outputId": "4d725e73-bf83-4ea7-e36d-fc327d8fb6ac"
      },
      "source": [
        "import math\n",
        "Numbers = [1,2,3,5,88,99,55,33,41,52]\n",
        "mean = (sum(Numbers)/len(Numbers))\n",
        "print(\"mean = \",mean)\n",
        "sd=[]\n",
        "for num in Numbers:\n",
        "  sd.append((num - mean)**2)\n",
        "print(\"sd = \",math.sqrt((sum(sd)/len(Numbers))))\n"
      ],
      "execution_count": 14,
      "outputs": [
        {
          "output_type": "stream",
          "text": [
            "mean =  37.9\n",
            "sd =  34.232878932394804\n"
          ],
          "name": "stdout"
        }
      ]
    }
  ]
}