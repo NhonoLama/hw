{
  "nbformat": 4,
  "nbformat_minor": 0,
  "metadata": {
    "colab": {
      "name": "Untitled0.ipynb",
      "provenance": [],
      "collapsed_sections": [],
      "authorship_tag": "ABX9TyNwMmxG7ACnb4zr3agmKvjC",
      "include_colab_link": true
    },
    "kernelspec": {
      "name": "python3",
      "display_name": "Python 3"
    },
    "language_info": {
      "name": "python"
    }
  },
  "cells": [
    {
      "cell_type": "markdown",
      "metadata": {
        "id": "view-in-github",
        "colab_type": "text"
      },
      "source": [
        "<a href=\"https://colab.research.google.com/github/NhonoLama/hw/blob/main/task2.ipynb\" target=\"_parent\"><img src=\"https://colab.research.google.com/assets/colab-badge.svg\" alt=\"Open In Colab\"/></a>"
      ]
    },
    {
      "cell_type": "code",
      "metadata": {
        "id": "DwDqb1Z0kyQJ"
      },
      "source": [
        ""
      ],
      "execution_count": null,
      "outputs": []
    },
    {
      "cell_type": "markdown",
      "metadata": {
        "id": "rNGjHQwqk3RM"
      },
      "source": [
        "Convert tuples to list."
      ]
    },
    {
      "cell_type": "code",
      "metadata": {
        "colab": {
          "base_uri": "https://localhost:8080/"
        },
        "id": "pHsc1EDWk4n_",
        "outputId": "c1d7c424-101d-4aac-ddd1-00cab3aeb943"
      },
      "source": [
        "tup = (200,400,600,\"naya\")\n",
        "list1= list(tup)\n",
        "print(list1)"
      ],
      "execution_count": 1,
      "outputs": [
        {
          "output_type": "stream",
          "text": [
            "[200, 400, 600, 'naya']\n"
          ],
          "name": "stdout"
        }
      ]
    },
    {
      "cell_type": "markdown",
      "metadata": {
        "id": "YnGvSTlLldlr"
      },
      "source": [
        "Write a program to calculate direction and magnitude of the vector described by the following points.\n",
        "A = (20,30)\n",
        "B = (30,40)\n"
      ]
    },
    {
      "cell_type": "code",
      "metadata": {
        "colab": {
          "base_uri": "https://localhost:8080/"
        },
        "id": "6B64XoKDljYq",
        "outputId": "cc64639a-b1bf-4382-d50e-d7b28468a633"
      },
      "source": [
        "import math\n",
        "A = (20,30)\n",
        "magnitudeA= math.sqrt(sum(pow(element, 2) for element in A))\n",
        "print(magnitudeA)\n",
        "\n",
        "B= (30,40)\n",
        "magnitudeB = math.sqrt(sum(pow(i ,2)for i in B))\n",
        "print(magnitudeB)"
      ],
      "execution_count": 4,
      "outputs": [
        {
          "output_type": "stream",
          "text": [
            "36.05551275463989\n",
            "50.0\n"
          ],
          "name": "stdout"
        }
      ]
    },
    {
      "cell_type": "markdown",
      "metadata": {
        "id": "dbBtSRQIlhbc"
      },
      "source": [
        "Write a program to demonstrate data types that can be elements of a tuple"
      ]
    },
    {
      "cell_type": "code",
      "metadata": {
        "colab": {
          "base_uri": "https://localhost:8080/"
        },
        "id": "uXF6yIUkna25",
        "outputId": "8fe411c9-77c6-44c4-8695-df0ce3cb93c3"
      },
      "source": [
        "tup = (\"dawa\",23,True,23.09,'c')\n",
        "for i in tup:\n",
        "  print(type(i))"
      ],
      "execution_count": 8,
      "outputs": [
        {
          "output_type": "stream",
          "text": [
            "<class 'str'>\n",
            "<class 'int'>\n",
            "<class 'bool'>\n",
            "<class 'float'>\n",
            "<class 'str'>\n"
          ],
          "name": "stdout"
        }
      ]
    }
  ]
}